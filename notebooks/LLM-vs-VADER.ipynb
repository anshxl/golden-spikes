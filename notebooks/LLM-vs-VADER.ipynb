{
 "cells": [
  {
   "cell_type": "code",
   "execution_count": 1,
   "metadata": {},
   "outputs": [],
   "source": [
    "import pandas as pd\n",
    "import numpy as np\n",
    "import matplotlib.pyplot as plt"
   ]
  },
  {
   "cell_type": "code",
   "execution_count": 2,
   "metadata": {},
   "outputs": [
    {
     "data": {
      "text/html": [
       "<div>\n",
       "<style scoped>\n",
       "    .dataframe tbody tr th:only-of-type {\n",
       "        vertical-align: middle;\n",
       "    }\n",
       "\n",
       "    .dataframe tbody tr th {\n",
       "        vertical-align: top;\n",
       "    }\n",
       "\n",
       "    .dataframe thead th {\n",
       "        text-align: right;\n",
       "    }\n",
       "</style>\n",
       "<table border=\"1\" class=\"dataframe\">\n",
       "  <thead>\n",
       "    <tr style=\"text-align: right;\">\n",
       "      <th></th>\n",
       "      <th>id</th>\n",
       "      <th>subreddit</th>\n",
       "      <th>parent_id</th>\n",
       "      <th>date</th>\n",
       "      <th>char_len</th>\n",
       "      <th>clean_body</th>\n",
       "      <th>vader</th>\n",
       "      <th>weak_label</th>\n",
       "      <th>llm_type</th>\n",
       "      <th>llm_sentiment</th>\n",
       "    </tr>\n",
       "  </thead>\n",
       "  <tbody>\n",
       "    <tr>\n",
       "      <th>0</th>\n",
       "      <td>fuy5wsx</td>\n",
       "      <td>geopolitics</td>\n",
       "      <td>NaN</td>\n",
       "      <td>2020-06-15</td>\n",
       "      <td>32</td>\n",
       "      <td>good stuff. thanks for posting.</td>\n",
       "      <td>0.7003</td>\n",
       "      <td>positive</td>\n",
       "      <td>Other</td>\n",
       "      <td>NaN</td>\n",
       "    </tr>\n",
       "    <tr>\n",
       "      <th>1</th>\n",
       "      <td>fcu4v0y</td>\n",
       "      <td>geopolitics</td>\n",
       "      <td>NaN</td>\n",
       "      <td>2020-01-02</td>\n",
       "      <td>2799</td>\n",
       "      <td>&gt; a fault of the americans themselves for allo...</td>\n",
       "      <td>0.9814</td>\n",
       "      <td>positive</td>\n",
       "      <td>Other</td>\n",
       "      <td>NaN</td>\n",
       "    </tr>\n",
       "    <tr>\n",
       "      <th>2</th>\n",
       "      <td>jnwlcxz</td>\n",
       "      <td>geopolitics</td>\n",
       "      <td>NaN</td>\n",
       "      <td>2023-06-12</td>\n",
       "      <td>258</td>\n",
       "      <td>hilarious? westerner diplomacy maybe? ignorant...</td>\n",
       "      <td>0.8426</td>\n",
       "      <td>positive</td>\n",
       "      <td>Other</td>\n",
       "      <td>NaN</td>\n",
       "    </tr>\n",
       "    <tr>\n",
       "      <th>3</th>\n",
       "      <td>k5feyy1</td>\n",
       "      <td>geopolitics</td>\n",
       "      <td>NaN</td>\n",
       "      <td>2023-10-18</td>\n",
       "      <td>262</td>\n",
       "      <td>but you’d trust hamas? “i don’t know who did t...</td>\n",
       "      <td>0.8720</td>\n",
       "      <td>positive</td>\n",
       "      <td>Opinion</td>\n",
       "      <td>Negative</td>\n",
       "    </tr>\n",
       "    <tr>\n",
       "      <th>4</th>\n",
       "      <td>fmequr0</td>\n",
       "      <td>geopolitics</td>\n",
       "      <td>NaN</td>\n",
       "      <td>2020-04-04</td>\n",
       "      <td>224</td>\n",
       "      <td>i think we're forgetting the middle east will ...</td>\n",
       "      <td>0.7184</td>\n",
       "      <td>positive</td>\n",
       "      <td>Opinion</td>\n",
       "      <td>Neutral</td>\n",
       "    </tr>\n",
       "  </tbody>\n",
       "</table>\n",
       "</div>"
      ],
      "text/plain": [
       "        id    subreddit  parent_id        date  char_len  \\\n",
       "0  fuy5wsx  geopolitics        NaN  2020-06-15        32   \n",
       "1  fcu4v0y  geopolitics        NaN  2020-01-02      2799   \n",
       "2  jnwlcxz  geopolitics        NaN  2023-06-12       258   \n",
       "3  k5feyy1  geopolitics        NaN  2023-10-18       262   \n",
       "4  fmequr0  geopolitics        NaN  2020-04-04       224   \n",
       "\n",
       "                                          clean_body   vader weak_label  \\\n",
       "0                    good stuff. thanks for posting.  0.7003   positive   \n",
       "1  > a fault of the americans themselves for allo...  0.9814   positive   \n",
       "2  hilarious? westerner diplomacy maybe? ignorant...  0.8426   positive   \n",
       "3  but you’d trust hamas? “i don’t know who did t...  0.8720   positive   \n",
       "4  i think we're forgetting the middle east will ...  0.7184   positive   \n",
       "\n",
       "  llm_type llm_sentiment  \n",
       "0    Other           NaN  \n",
       "1    Other           NaN  \n",
       "2    Other           NaN  \n",
       "3  Opinion      Negative  \n",
       "4  Opinion       Neutral  "
      ]
     },
     "execution_count": 2,
     "metadata": {},
     "output_type": "execute_result"
    }
   ],
   "source": [
    "# Load data\n",
    "df = pd.read_csv('../data/annotated_gold_standard.csv')\n",
    "df.head()"
   ]
  },
  {
   "cell_type": "code",
   "execution_count": 3,
   "metadata": {},
   "outputs": [
    {
     "data": {
      "text/plain": [
       "llm_type\n",
       "Other       3587\n",
       "Opinion     3051\n",
       "Question     562\n",
       "Name: count, dtype: int64"
      ]
     },
     "execution_count": 3,
     "metadata": {},
     "output_type": "execute_result"
    }
   ],
   "source": [
    "# If llm_type is not 'Opinion' or 'Question', change it to 'Other'\n",
    "df['llm_type'] = df['llm_type'].apply(lambda x: x if x in ['Opinion', 'Question'] else 'Other')\n",
    "df['llm_type'].value_counts()"
   ]
  },
  {
   "cell_type": "code",
   "execution_count": 4,
   "metadata": {},
   "outputs": [
    {
     "data": {
      "text/plain": [
       "llm_sentiment\n",
       "Negative              2117\n",
       "Neutral                687\n",
       "Positive               245\n",
       "Negative/Neutral         1\n",
       "Nostalgic/Positive       1\n",
       "Name: count, dtype: int64"
      ]
     },
     "execution_count": 4,
     "metadata": {},
     "output_type": "execute_result"
    }
   ],
   "source": [
    "# Out of the opinions, # how many are positive, negative, or neutral?\n",
    "ops = df['llm_type'] == 'Opinion'\n",
    "\n",
    "ops_df = df[ops]\n",
    "\n",
    "ops_df['llm_sentiment'].value_counts()"
   ]
  },
  {
   "cell_type": "code",
   "execution_count": 5,
   "metadata": {},
   "outputs": [
    {
     "name": "stderr",
     "output_type": "stream",
     "text": [
      "/var/folders/tl/w9hfhthx2q9drpztnsz6w5y80000gn/T/ipykernel_2532/749966406.py:2: SettingWithCopyWarning: \n",
      "A value is trying to be set on a copy of a slice from a DataFrame.\n",
      "Try using .loc[row_indexer,col_indexer] = value instead\n",
      "\n",
      "See the caveats in the documentation: https://pandas.pydata.org/pandas-docs/stable/user_guide/indexing.html#returning-a-view-versus-a-copy\n",
      "  ops_df['llm_sentiment'] = ops_df['llm_sentiment'].str.lower()\n"
     ]
    },
    {
     "data": {
      "text/plain": [
       "Text(0.5, 1.0, 'Confusion Matrix: VADER vs. LLM Sentiment')"
      ]
     },
     "execution_count": 5,
     "metadata": {},
     "output_type": "execute_result"
    },
    {
     "data": {
      "image/png": "[encoded data removed]",
      "text/plain": [
       "<Figure size 640x480 with 2 Axes>"
      ]
     },
     "metadata": {},
     "output_type": "display_data"
    }
   ],
   "source": [
    "# Lower case the text\n",
    "ops_df['llm_sentiment'] = ops_df['llm_sentiment'].str.lower()\n",
    "\n",
    "# Confusion matrix for VADER vs. LLM sentiment\n",
    "from sklearn.metrics import confusion_matrix\n",
    "cm = confusion_matrix(ops_df['weak_label'], ops_df['llm_sentiment'], labels=['positive', 'negative', 'neutral'])\n",
    "import seaborn as sns\n",
    "sns.heatmap(cm, annot=True, fmt='d', cmap='Blues',\n",
    "            xticklabels=['positive', 'negative', 'neutral'],\n",
    "            yticklabels=['positive', 'negative', 'neutral'])\n",
    "plt.xlabel('LLM Sentiment')\n",
    "plt.ylabel('VADER Sentiment')\n",
    "plt.title('Confusion Matrix: VADER vs. LLM Sentiment')"
   ]
  },
  {
   "cell_type": "markdown",
   "metadata": {},
   "source": [
    "### VADER is clearly too inconsistent for pre-labeling. \n",
    "\n",
    "A new LLM powered pipeline will do the annotation for the entire corpus."
   ]
  },
  {
   "cell_type": "code",
   "execution_count": 6,
   "metadata": {},
   "outputs": [],
   "source": [
    "from sqlalchemy import create_engine\n",
    "\n",
    "# Create a connection to the database\n",
    "engine = create_engine(\"sqlite:///../reddit_posts.db\")"
   ]
  },
  {
   "cell_type": "code",
   "execution_count": 7,
   "metadata": {},
   "outputs": [],
   "source": [
    "# Query table\n",
    "df = pd.read_sql_query(\"SELECT id, clean_body FROM comments_labeled\", engine)\n",
    "\n",
    "# Save the DataFrame to a CSV file\n",
    "df.to_csv('../data/comments_labeled.csv', index=False)\n"
   ]
  },
  {
   "cell_type": "code",
   "execution_count": null,
   "metadata": {},
   "outputs": [],
   "source": []
  }
 ],
 "metadata": {
  "kernelspec": {
   "display_name": "reddit-env",
   "language": "python",
   "name": "python3"
  },
  "language_info": {
   "codemirror_mode": {
    "name": "ipython",
    "version": 3
   },
   "file_extension": ".py",
   "mimetype": "text/x-python",
   "name": "python",
   "nbconvert_exporter": "python",
   "pygments_lexer": "ipython3",
   "version": "3.11.13"
  }
 },
 "nbformat": 4,
 "nbformat_minor": 2
}
