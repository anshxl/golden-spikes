{
 "cells": [
  {
   "cell_type": "code",
   "execution_count": null,
   "metadata": {},
   "outputs": [],
   "source": [
    "import os\n",
    "from dotenv import load_dotenv\n",
    "# Load environment variables from .env file\n",
    "load_dotenv()\n",
    "\n",
    "REDDIT_CLIENT_ID = os.getenv('REDDIT_CLIENT_ID')\n",
    "REDDIT_CLIENT_SECRET = os.getenv('REDDIT_CLIENT_SECRET')\n",
    "REDDIT_USER_AGENT = os.getenv('REDDIT_USER_AGENT')"
   ]
  },
  {
   "cell_type": "code",
   "execution_count": null,
   "metadata": {},
   "outputs": [],
   "source": [
    "import time, praw\n",
    "from datetime import datetime, timedelta\n",
    "\n",
    "reddit = praw.Reddit(...)  # your auth\n",
    "\n",
    "sub = reddit.subreddit(\"Geopolitics\")\n",
    "# pick a recent 7-day window\n",
    "end_ts   = int(time.time())\n",
    "start_ts = end_ts - 7*24*3600\n",
    "print(datetime.fromtimestamp(start_ts), \"→\", datetime.fromtimestamp(end_ts))\n",
    "\n",
    "count = 0\n",
    "for post in fetch_window(sub, start_ts, end_ts):\n",
    "    count += 1\n",
    "    if count <= 5:\n",
    "        print(post[\"created_utc\"], post[\"title\"][:50])\n",
    "print(\"Total posts:\", count)\n"
   ]
  }
 ],
 "metadata": {
  "kernelspec": {
   "display_name": "reddit-env",
   "language": "python",
   "name": "python3"
  },
  "language_info": {
   "name": "python",
   "version": "3.11.13"
  }
 },
 "nbformat": 4,
 "nbformat_minor": 2
}
