{
 "cells": [
  {
   "cell_type": "code",
   "execution_count": 1,
   "metadata": {},
   "outputs": [],
   "source": [
    "import pandas as pd\n",
    "import numpy as np\n",
    "import matplotlib.pyplot as plt\n",
    "from sqlalchemy import create_engine"
   ]
  },
  {
   "cell_type": "code",
   "execution_count": 2,
   "metadata": {},
   "outputs": [],
   "source": [
    "# Set up the database connection\n",
    "engine = create_engine(\"sqlite:///../reddit_posts.db\")"
   ]
  },
  {
   "cell_type": "code",
   "execution_count": 4,
   "metadata": {},
   "outputs": [
    {
     "data": {
      "text/html": [
       "<div>\n",
       "<style scoped>\n",
       "    .dataframe tbody tr th:only-of-type {\n",
       "        vertical-align: middle;\n",
       "    }\n",
       "\n",
       "    .dataframe tbody tr th {\n",
       "        vertical-align: top;\n",
       "    }\n",
       "\n",
       "    .dataframe thead th {\n",
       "        text-align: right;\n",
       "    }\n",
       "</style>\n",
       "<table border=\"1\" class=\"dataframe\">\n",
       "  <thead>\n",
       "    <tr style=\"text-align: right;\">\n",
       "      <th></th>\n",
       "      <th>id</th>\n",
       "      <th>subreddit</th>\n",
       "      <th>date</th>\n",
       "      <th>char_len</th>\n",
       "      <th>weekday</th>\n",
       "      <th>clean_text</th>\n",
       "      <th>vader</th>\n",
       "      <th>weak_label</th>\n",
       "    </tr>\n",
       "  </thead>\n",
       "  <tbody>\n",
       "    <tr>\n",
       "      <th>0</th>\n",
       "      <td>c78w4x</td>\n",
       "      <td>investing</td>\n",
       "      <td>2019-06-30</td>\n",
       "      <td>1487</td>\n",
       "      <td>Sunday</td>\n",
       "      <td>need help thinking through a long-term play on...</td>\n",
       "      <td>0.9904</td>\n",
       "      <td>positive</td>\n",
       "    </tr>\n",
       "    <tr>\n",
       "      <th>1</th>\n",
       "      <td>c796k7</td>\n",
       "      <td>investing</td>\n",
       "      <td>2019-06-30</td>\n",
       "      <td>49</td>\n",
       "      <td>Sunday</td>\n",
       "      <td>auction.com real estate - advice needed!</td>\n",
       "      <td>0.0000</td>\n",
       "      <td>neutral</td>\n",
       "    </tr>\n",
       "    <tr>\n",
       "      <th>2</th>\n",
       "      <td>c7994a</td>\n",
       "      <td>investing</td>\n",
       "      <td>2019-06-30</td>\n",
       "      <td>1053</td>\n",
       "      <td>Sunday</td>\n",
       "      <td>does anyone else think that jim rogers is righ...</td>\n",
       "      <td>-0.9683</td>\n",
       "      <td>negative</td>\n",
       "    </tr>\n",
       "    <tr>\n",
       "      <th>3</th>\n",
       "      <td>c79p8x</td>\n",
       "      <td>investing</td>\n",
       "      <td>2019-06-30</td>\n",
       "      <td>444</td>\n",
       "      <td>Sunday</td>\n",
       "      <td>for the ones actively valuing companies, does ...</td>\n",
       "      <td>0.9094</td>\n",
       "      <td>positive</td>\n",
       "    </tr>\n",
       "    <tr>\n",
       "      <th>4</th>\n",
       "      <td>c7bgfj</td>\n",
       "      <td>investing</td>\n",
       "      <td>2019-06-30</td>\n",
       "      <td>22</td>\n",
       "      <td>Sunday</td>\n",
       "      <td>p2p investing</td>\n",
       "      <td>0.0000</td>\n",
       "      <td>neutral</td>\n",
       "    </tr>\n",
       "  </tbody>\n",
       "</table>\n",
       "</div>"
      ],
      "text/plain": [
       "       id  subreddit       date  char_len weekday  \\\n",
       "0  c78w4x  investing 2019-06-30      1487  Sunday   \n",
       "1  c796k7  investing 2019-06-30        49  Sunday   \n",
       "2  c7994a  investing 2019-06-30      1053  Sunday   \n",
       "3  c79p8x  investing 2019-06-30       444  Sunday   \n",
       "4  c7bgfj  investing 2019-06-30        22  Sunday   \n",
       "\n",
       "                                          clean_text   vader weak_label  \n",
       "0  need help thinking through a long-term play on...  0.9904   positive  \n",
       "1           auction.com real estate - advice needed!  0.0000    neutral  \n",
       "2  does anyone else think that jim rogers is righ... -0.9683   negative  \n",
       "3  for the ones actively valuing companies, does ...  0.9094   positive  \n",
       "4                                      p2p investing  0.0000    neutral  "
      ]
     },
     "execution_count": 4,
     "metadata": {},
     "output_type": "execute_result"
    }
   ],
   "source": [
    "# Read posts\n",
    "posts = pd.read_sql(\"posts_labeled\", engine)\n",
    "posts.head()"
   ]
  },
  {
   "cell_type": "code",
   "execution_count": 7,
   "metadata": {},
   "outputs": [
    {
     "data": {
      "text/plain": [
       "(array([0, 1, 2, 3, 4, 5]),\n",
       " [Text(0, 0, 'Economics'),\n",
       "  Text(1, 0, 'Gold'),\n",
       "  Text(2, 0, 'PoliticalDiscussion'),\n",
       "  Text(3, 0, 'finance'),\n",
       "  Text(4, 0, 'geopolitics'),\n",
       "  Text(5, 0, 'investing')])"
      ]
     },
     "execution_count": 7,
     "metadata": {},
     "output_type": "execute_result"
    },
    {
     "data": {
      "image/png": "[encoded data removed]",
      "text/plain": [
       "<Figure size 800x500 with 1 Axes>"
      ]
     },
     "metadata": {},
     "output_type": "display_data"
    }
   ],
   "source": [
    "# Check label distribution per subreddit\n",
    "subreddit_counts = posts.groupby(['subreddit', 'weak_label']).size().unstack(fill_value=0)\n",
    "\n",
    "# Normalize the counts to get proportions\n",
    "subreddit_proportions = subreddit_counts.div(subreddit_counts.sum(axis=1), axis=0)\n",
    "\n",
    "# Plotting the proportions\n",
    "subreddit_proportions.plot(kind='bar', stacked=True, figsize=(8, 5))\n",
    "plt.xticks(rotation=45)"
   ]
  },
  {
   "cell_type": "code",
   "execution_count": 8,
   "metadata": {},
   "outputs": [
    {
     "data": {
      "text/html": [
       "<div>\n",
       "<style scoped>\n",
       "    .dataframe tbody tr th:only-of-type {\n",
       "        vertical-align: middle;\n",
       "    }\n",
       "\n",
       "    .dataframe tbody tr th {\n",
       "        vertical-align: top;\n",
       "    }\n",
       "\n",
       "    .dataframe thead th {\n",
       "        text-align: right;\n",
       "    }\n",
       "</style>\n",
       "<table border=\"1\" class=\"dataframe\">\n",
       "  <thead>\n",
       "    <tr style=\"text-align: right;\">\n",
       "      <th>weak_label</th>\n",
       "      <th>negative</th>\n",
       "      <th>neutral</th>\n",
       "      <th>positive</th>\n",
       "    </tr>\n",
       "    <tr>\n",
       "      <th>subreddit</th>\n",
       "      <th></th>\n",
       "      <th></th>\n",
       "      <th></th>\n",
       "    </tr>\n",
       "  </thead>\n",
       "  <tbody>\n",
       "    <tr>\n",
       "      <th>Economics</th>\n",
       "      <td>3547</td>\n",
       "      <td>38508</td>\n",
       "      <td>3414</td>\n",
       "    </tr>\n",
       "    <tr>\n",
       "      <th>Gold</th>\n",
       "      <td>1012</td>\n",
       "      <td>24834</td>\n",
       "      <td>9604</td>\n",
       "    </tr>\n",
       "    <tr>\n",
       "      <th>PoliticalDiscussion</th>\n",
       "      <td>4758</td>\n",
       "      <td>41306</td>\n",
       "      <td>7461</td>\n",
       "    </tr>\n",
       "    <tr>\n",
       "      <th>finance</th>\n",
       "      <td>1309</td>\n",
       "      <td>32465</td>\n",
       "      <td>3224</td>\n",
       "    </tr>\n",
       "    <tr>\n",
       "      <th>geopolitics</th>\n",
       "      <td>4222</td>\n",
       "      <td>18364</td>\n",
       "      <td>2822</td>\n",
       "    </tr>\n",
       "    <tr>\n",
       "      <th>investing</th>\n",
       "      <td>5438</td>\n",
       "      <td>105854</td>\n",
       "      <td>40768</td>\n",
       "    </tr>\n",
       "  </tbody>\n",
       "</table>\n",
       "</div>"
      ],
      "text/plain": [
       "weak_label           negative  neutral  positive\n",
       "subreddit                                       \n",
       "Economics                3547    38508      3414\n",
       "Gold                     1012    24834      9604\n",
       "PoliticalDiscussion      4758    41306      7461\n",
       "finance                  1309    32465      3224\n",
       "geopolitics              4222    18364      2822\n",
       "investing                5438   105854     40768"
      ]
     },
     "execution_count": 8,
     "metadata": {},
     "output_type": "execute_result"
    }
   ],
   "source": [
    "subreddit_counts"
   ]
  },
  {
   "cell_type": "code",
   "execution_count": 9,
   "metadata": {},
   "outputs": [
    {
     "data": {
      "text/html": [
       "<div>\n",
       "<style scoped>\n",
       "    .dataframe tbody tr th:only-of-type {\n",
       "        vertical-align: middle;\n",
       "    }\n",
       "\n",
       "    .dataframe tbody tr th {\n",
       "        vertical-align: top;\n",
       "    }\n",
       "\n",
       "    .dataframe thead th {\n",
       "        text-align: right;\n",
       "    }\n",
       "</style>\n",
       "<table border=\"1\" class=\"dataframe\">\n",
       "  <thead>\n",
       "    <tr style=\"text-align: right;\">\n",
       "      <th></th>\n",
       "      <th>id</th>\n",
       "      <th>subreddit</th>\n",
       "      <th>parent_id</th>\n",
       "      <th>date</th>\n",
       "      <th>char_len</th>\n",
       "      <th>clean_body</th>\n",
       "      <th>vader</th>\n",
       "      <th>weak_label</th>\n",
       "    </tr>\n",
       "  </thead>\n",
       "  <tbody>\n",
       "    <tr>\n",
       "      <th>0</th>\n",
       "      <td>esdguxz</td>\n",
       "      <td>geopolitics</td>\n",
       "      <td>None</td>\n",
       "      <td>2019-06-30</td>\n",
       "      <td>9</td>\n",
       "      <td>why none?</td>\n",
       "      <td>0.0000</td>\n",
       "      <td>neutral</td>\n",
       "    </tr>\n",
       "    <tr>\n",
       "      <th>1</th>\n",
       "      <td>esdhtud</td>\n",
       "      <td>geopolitics</td>\n",
       "      <td>None</td>\n",
       "      <td>2019-06-30</td>\n",
       "      <td>1556</td>\n",
       "      <td>&gt; who is the realist? it depends on what you m...</td>\n",
       "      <td>0.9092</td>\n",
       "      <td>positive</td>\n",
       "    </tr>\n",
       "    <tr>\n",
       "      <th>2</th>\n",
       "      <td>esdj0ib</td>\n",
       "      <td>geopolitics</td>\n",
       "      <td>None</td>\n",
       "      <td>2019-06-30</td>\n",
       "      <td>15</td>\n",
       "      <td>try outline.com</td>\n",
       "      <td>0.0000</td>\n",
       "      <td>neutral</td>\n",
       "    </tr>\n",
       "    <tr>\n",
       "      <th>3</th>\n",
       "      <td>esdj5ht</td>\n",
       "      <td>geopolitics</td>\n",
       "      <td>None</td>\n",
       "      <td>2019-06-30</td>\n",
       "      <td>126</td>\n",
       "      <td>russia can only be a centralized state due to ...</td>\n",
       "      <td>0.0000</td>\n",
       "      <td>neutral</td>\n",
       "    </tr>\n",
       "    <tr>\n",
       "      <th>4</th>\n",
       "      <td>esdj6vs</td>\n",
       "      <td>geopolitics</td>\n",
       "      <td>None</td>\n",
       "      <td>2019-06-30</td>\n",
       "      <td>143</td>\n",
       "      <td>migration is not a viable way to offset demogr...</td>\n",
       "      <td>0.0000</td>\n",
       "      <td>neutral</td>\n",
       "    </tr>\n",
       "  </tbody>\n",
       "</table>\n",
       "</div>"
      ],
      "text/plain": [
       "        id    subreddit parent_id       date  char_len  \\\n",
       "0  esdguxz  geopolitics      None 2019-06-30         9   \n",
       "1  esdhtud  geopolitics      None 2019-06-30      1556   \n",
       "2  esdj0ib  geopolitics      None 2019-06-30        15   \n",
       "3  esdj5ht  geopolitics      None 2019-06-30       126   \n",
       "4  esdj6vs  geopolitics      None 2019-06-30       143   \n",
       "\n",
       "                                          clean_body   vader weak_label  \n",
       "0                                          why none?  0.0000    neutral  \n",
       "1  > who is the realist? it depends on what you m...  0.9092   positive  \n",
       "2                                    try outline.com  0.0000    neutral  \n",
       "3  russia can only be a centralized state due to ...  0.0000    neutral  \n",
       "4  migration is not a viable way to offset demogr...  0.0000    neutral  "
      ]
     },
     "execution_count": 9,
     "metadata": {},
     "output_type": "execute_result"
    }
   ],
   "source": [
    "# Repeat for comments\n",
    "comments = pd.read_sql(\"comments_labeled\", engine)\n",
    "comments.head()"
   ]
  },
  {
   "cell_type": "code",
   "execution_count": 12,
   "metadata": {},
   "outputs": [
    {
     "data": {
      "text/plain": [
       "(array([0, 1]), [Text(0, 0, 'PoliticalDiscussion'), Text(1, 0, 'geopolitics')])"
      ]
     },
     "execution_count": 12,
     "metadata": {},
     "output_type": "execute_result"
    },
    {
     "data": {
      "image/png": "[encoded data removed]",
      "text/plain": [
       "<Figure size 800x500 with 1 Axes>"
      ]
     },
     "metadata": {},
     "output_type": "display_data"
    }
   ],
   "source": [
    "# Check label distribution per subreddit for comments\n",
    "subreddit_counts_comments = comments.groupby(['subreddit', 'weak_label']).size().unstack(fill_value=0)\n",
    "\n",
    "# Normalize the counts to get proportions for comments\n",
    "subreddit_proportions_comments = subreddit_counts_comments.div(subreddit_counts_comments.sum(axis=1), axis=0)\n",
    "\n",
    "# Plotting the proportions for comments\n",
    "subreddit_proportions_comments.plot(kind='bar', stacked=True, figsize=(8, 5))\n",
    "plt.xticks(rotation=45)"
   ]
  },
  {
   "cell_type": "code",
   "execution_count": 11,
   "metadata": {},
   "outputs": [
    {
     "data": {
      "text/html": [
       "<div>\n",
       "<style scoped>\n",
       "    .dataframe tbody tr th:only-of-type {\n",
       "        vertical-align: middle;\n",
       "    }\n",
       "\n",
       "    .dataframe tbody tr th {\n",
       "        vertical-align: top;\n",
       "    }\n",
       "\n",
       "    .dataframe thead th {\n",
       "        text-align: right;\n",
       "    }\n",
       "</style>\n",
       "<table border=\"1\" class=\"dataframe\">\n",
       "  <thead>\n",
       "    <tr style=\"text-align: right;\">\n",
       "      <th>weak_label</th>\n",
       "      <th>negative</th>\n",
       "      <th>neutral</th>\n",
       "      <th>positive</th>\n",
       "    </tr>\n",
       "    <tr>\n",
       "      <th>subreddit</th>\n",
       "      <th></th>\n",
       "      <th></th>\n",
       "      <th></th>\n",
       "    </tr>\n",
       "  </thead>\n",
       "  <tbody>\n",
       "    <tr>\n",
       "      <th>PoliticalDiscussion</th>\n",
       "      <td>316880</td>\n",
       "      <td>365521</td>\n",
       "      <td>437695</td>\n",
       "    </tr>\n",
       "    <tr>\n",
       "      <th>geopolitics</th>\n",
       "      <td>133037</td>\n",
       "      <td>156908</td>\n",
       "      <td>114432</td>\n",
       "    </tr>\n",
       "  </tbody>\n",
       "</table>\n",
       "</div>"
      ],
      "text/plain": [
       "weak_label           negative  neutral  positive\n",
       "subreddit                                       \n",
       "PoliticalDiscussion    316880   365521    437695\n",
       "geopolitics            133037   156908    114432"
      ]
     },
     "execution_count": 11,
     "metadata": {},
     "output_type": "execute_result"
    }
   ],
   "source": [
    "subreddit_counts_comments"
   ]
  },
  {
   "cell_type": "code",
   "execution_count": 19,
   "metadata": {},
   "outputs": [
    {
     "data": {
      "text/plain": [
       "array(['investing', 'geopolitics', 'finance', 'PoliticalDiscussion',\n",
       "       'Gold', 'Economics'], dtype=object)"
      ]
     },
     "execution_count": 19,
     "metadata": {},
     "output_type": "execute_result"
    }
   ],
   "source": [
    "pd.unique(posts['subreddit'].values)"
   ]
  },
  {
   "cell_type": "code",
   "execution_count": null,
   "metadata": {},
   "outputs": [],
   "source": []
  }
 ],
 "metadata": {
  "kernelspec": {
   "display_name": "reddit-env",
   "language": "python",
   "name": "python3"
  },
  "language_info": {
   "codemirror_mode": {
    "name": "ipython",
    "version": 3
   },
   "file_extension": ".py",
   "mimetype": "text/x-python",
   "name": "python",
   "nbconvert_exporter": "python",
   "pygments_lexer": "ipython3",
   "version": "3.11.13"
  }
 },
 "nbformat": 4,
 "nbformat_minor": 2
}
