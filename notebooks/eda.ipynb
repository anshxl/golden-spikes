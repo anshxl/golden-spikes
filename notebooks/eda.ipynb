{
 "cells": [
  {
   "cell_type": "code",
   "execution_count": 47,
   "metadata": {},
   "outputs": [],
   "source": [
    "import pandas as pd\n",
    "import numpy as np\n",
    "from sqlalchemy import create_engine"
   ]
  },
  {
   "cell_type": "code",
   "execution_count": 48,
   "metadata": {},
   "outputs": [],
   "source": [
    "# Set up the database connection\n",
    "engine = create_engine(\"sqlite:///../reddit_posts.db\")"
   ]
  },
  {
   "cell_type": "code",
   "execution_count": 44,
   "metadata": {},
   "outputs": [
    {
     "data": {
      "text/html": [
       "<div>\n",
       "<style scoped>\n",
       "    .dataframe tbody tr th:only-of-type {\n",
       "        vertical-align: middle;\n",
       "    }\n",
       "\n",
       "    .dataframe tbody tr th {\n",
       "        vertical-align: top;\n",
       "    }\n",
       "\n",
       "    .dataframe thead th {\n",
       "        text-align: right;\n",
       "    }\n",
       "</style>\n",
       "<table border=\"1\" class=\"dataframe\">\n",
       "  <thead>\n",
       "    <tr style=\"text-align: right;\">\n",
       "      <th></th>\n",
       "      <th>id</th>\n",
       "      <th>subreddit</th>\n",
       "      <th>title</th>\n",
       "      <th>selftext</th>\n",
       "      <th>date</th>\n",
       "    </tr>\n",
       "  </thead>\n",
       "  <tbody>\n",
       "    <tr>\n",
       "      <th>0</th>\n",
       "      <td>c77jgf</td>\n",
       "      <td>investing</td>\n",
       "      <td>Is \"The Big Short\" by Michael Lewis a good book?</td>\n",
       "      <td>I haven't read it yet.</td>\n",
       "      <td>2019-06-30</td>\n",
       "    </tr>\n",
       "    <tr>\n",
       "      <th>1</th>\n",
       "      <td>c78w4x</td>\n",
       "      <td>investing</td>\n",
       "      <td>Need help thinking through a long-term play on...</td>\n",
       "      <td>In the long run I am very bullish on renewable...</td>\n",
       "      <td>2019-06-30</td>\n",
       "    </tr>\n",
       "    <tr>\n",
       "      <th>2</th>\n",
       "      <td>c794e0</td>\n",
       "      <td>investing</td>\n",
       "      <td>Why chasing high yielding stocks is not the be...</td>\n",
       "      <td>[removed]</td>\n",
       "      <td>2019-06-30</td>\n",
       "    </tr>\n",
       "    <tr>\n",
       "      <th>3</th>\n",
       "      <td>c796k7</td>\n",
       "      <td>investing</td>\n",
       "      <td>Auction.com Real Estate - Advice Needed!</td>\n",
       "      <td>[deleted]</td>\n",
       "      <td>2019-06-30</td>\n",
       "    </tr>\n",
       "    <tr>\n",
       "      <th>4</th>\n",
       "      <td>c7994a</td>\n",
       "      <td>investing</td>\n",
       "      <td>Does anyone else think that Jim Rogers is righ...</td>\n",
       "      <td>He's predicting a more severe crash than 2008 ...</td>\n",
       "      <td>2019-06-30</td>\n",
       "    </tr>\n",
       "  </tbody>\n",
       "</table>\n",
       "</div>"
      ],
      "text/plain": [
       "       id  subreddit                                              title  \\\n",
       "0  c77jgf  investing   Is \"The Big Short\" by Michael Lewis a good book?   \n",
       "1  c78w4x  investing  Need help thinking through a long-term play on...   \n",
       "2  c794e0  investing  Why chasing high yielding stocks is not the be...   \n",
       "3  c796k7  investing           Auction.com Real Estate - Advice Needed!   \n",
       "4  c7994a  investing  Does anyone else think that Jim Rogers is righ...   \n",
       "\n",
       "                                            selftext       date  \n",
       "0                             I haven't read it yet. 2019-06-30  \n",
       "1  In the long run I am very bullish on renewable... 2019-06-30  \n",
       "2                                          [removed] 2019-06-30  \n",
       "3                                          [deleted] 2019-06-30  \n",
       "4  He's predicting a more severe crash than 2008 ... 2019-06-30  "
      ]
     },
     "execution_count": 44,
     "metadata": {},
     "output_type": "execute_result"
    }
   ],
   "source": [
    "# Read table\n",
    "posts_df = pd.read_sql(\"posts_clean\", engine)\n",
    "posts_df.head()"
   ]
  },
  {
   "cell_type": "code",
   "execution_count": 45,
   "metadata": {},
   "outputs": [
    {
     "data": {
      "text/html": [
       "<div>\n",
       "<style scoped>\n",
       "    .dataframe tbody tr th:only-of-type {\n",
       "        vertical-align: middle;\n",
       "    }\n",
       "\n",
       "    .dataframe tbody tr th {\n",
       "        vertical-align: top;\n",
       "    }\n",
       "\n",
       "    .dataframe thead th {\n",
       "        text-align: right;\n",
       "    }\n",
       "</style>\n",
       "<table border=\"1\" class=\"dataframe\">\n",
       "  <thead>\n",
       "    <tr style=\"text-align: right;\">\n",
       "      <th></th>\n",
       "      <th>id</th>\n",
       "      <th>subreddit</th>\n",
       "      <th>parent_id</th>\n",
       "      <th>body</th>\n",
       "      <th>date</th>\n",
       "    </tr>\n",
       "  </thead>\n",
       "  <tbody>\n",
       "    <tr>\n",
       "      <th>0</th>\n",
       "      <td>esdguxz</td>\n",
       "      <td>geopolitics</td>\n",
       "      <td>None</td>\n",
       "      <td>Why none?</td>\n",
       "      <td>2019-06-30</td>\n",
       "    </tr>\n",
       "    <tr>\n",
       "      <th>1</th>\n",
       "      <td>esdhtud</td>\n",
       "      <td>geopolitics</td>\n",
       "      <td>None</td>\n",
       "      <td>&amp;gt; Who is the realist?\\n\\nIt depends on what...</td>\n",
       "      <td>2019-06-30</td>\n",
       "    </tr>\n",
       "    <tr>\n",
       "      <th>2</th>\n",
       "      <td>esdi6lj</td>\n",
       "      <td>geopolitics</td>\n",
       "      <td>None</td>\n",
       "      <td>[removed]</td>\n",
       "      <td>2019-06-30</td>\n",
       "    </tr>\n",
       "    <tr>\n",
       "      <th>3</th>\n",
       "      <td>esdi9eq</td>\n",
       "      <td>geopolitics</td>\n",
       "      <td>None</td>\n",
       "      <td>Vietnam is only a fraction of the size of Chin...</td>\n",
       "      <td>2019-06-30</td>\n",
       "    </tr>\n",
       "    <tr>\n",
       "      <th>4</th>\n",
       "      <td>esdilx8</td>\n",
       "      <td>geopolitics</td>\n",
       "      <td>None</td>\n",
       "      <td>What is the \"West\" supposed to mean? The tradi...</td>\n",
       "      <td>2019-06-30</td>\n",
       "    </tr>\n",
       "  </tbody>\n",
       "</table>\n",
       "</div>"
      ],
      "text/plain": [
       "        id    subreddit parent_id  \\\n",
       "0  esdguxz  geopolitics      None   \n",
       "1  esdhtud  geopolitics      None   \n",
       "2  esdi6lj  geopolitics      None   \n",
       "3  esdi9eq  geopolitics      None   \n",
       "4  esdilx8  geopolitics      None   \n",
       "\n",
       "                                                body       date  \n",
       "0                                          Why none? 2019-06-30  \n",
       "1  &gt; Who is the realist?\\n\\nIt depends on what... 2019-06-30  \n",
       "2                                          [removed] 2019-06-30  \n",
       "3  Vietnam is only a fraction of the size of Chin... 2019-06-30  \n",
       "4  What is the \"West\" supposed to mean? The tradi... 2019-06-30  "
      ]
     },
     "execution_count": 45,
     "metadata": {},
     "output_type": "execute_result"
    }
   ],
   "source": [
    "comments_df = pd.read_sql(\"comments_clean\", engine)\n",
    "comments_df.head()"
   ]
  },
  {
   "cell_type": "code",
   "execution_count": 49,
   "metadata": {},
   "outputs": [
    {
     "data": {
      "text/html": [
       "<div>\n",
       "<style scoped>\n",
       "    .dataframe tbody tr th:only-of-type {\n",
       "        vertical-align: middle;\n",
       "    }\n",
       "\n",
       "    .dataframe tbody tr th {\n",
       "        vertical-align: top;\n",
       "    }\n",
       "\n",
       "    .dataframe thead th {\n",
       "        text-align: right;\n",
       "    }\n",
       "</style>\n",
       "<table border=\"1\" class=\"dataframe\">\n",
       "  <thead>\n",
       "    <tr style=\"text-align: right;\">\n",
       "      <th></th>\n",
       "      <th>date</th>\n",
       "      <th>Close</th>\n",
       "      <th>High</th>\n",
       "      <th>Low</th>\n",
       "      <th>Open</th>\n",
       "      <th>Volume</th>\n",
       "    </tr>\n",
       "  </thead>\n",
       "  <tbody>\n",
       "    <tr>\n",
       "      <th>0</th>\n",
       "      <td>2019-06-27</td>\n",
       "      <td>1408.400024</td>\n",
       "      <td>1410.800049</td>\n",
       "      <td>1399.800049</td>\n",
       "      <td>1407.000000</td>\n",
       "      <td>437</td>\n",
       "    </tr>\n",
       "    <tr>\n",
       "      <th>1</th>\n",
       "      <td>2019-06-28</td>\n",
       "      <td>1409.699951</td>\n",
       "      <td>1422.000000</td>\n",
       "      <td>1408.300049</td>\n",
       "      <td>1408.300049</td>\n",
       "      <td>356</td>\n",
       "    </tr>\n",
       "    <tr>\n",
       "      <th>2</th>\n",
       "      <td>2019-07-01</td>\n",
       "      <td>1385.599976</td>\n",
       "      <td>1395.800049</td>\n",
       "      <td>1382.800049</td>\n",
       "      <td>1386.599976</td>\n",
       "      <td>214</td>\n",
       "    </tr>\n",
       "    <tr>\n",
       "      <th>3</th>\n",
       "      <td>2019-07-02</td>\n",
       "      <td>1404.599976</td>\n",
       "      <td>1418.400024</td>\n",
       "      <td>1390.800049</td>\n",
       "      <td>1391.099976</td>\n",
       "      <td>38</td>\n",
       "    </tr>\n",
       "    <tr>\n",
       "      <th>4</th>\n",
       "      <td>2019-07-03</td>\n",
       "      <td>1417.699951</td>\n",
       "      <td>1434.000000</td>\n",
       "      <td>1413.099976</td>\n",
       "      <td>1431.000000</td>\n",
       "      <td>46</td>\n",
       "    </tr>\n",
       "  </tbody>\n",
       "</table>\n",
       "</div>"
      ],
      "text/plain": [
       "        date        Close         High          Low         Open  Volume\n",
       "0 2019-06-27  1408.400024  1410.800049  1399.800049  1407.000000     437\n",
       "1 2019-06-28  1409.699951  1422.000000  1408.300049  1408.300049     356\n",
       "2 2019-07-01  1385.599976  1395.800049  1382.800049  1386.599976     214\n",
       "3 2019-07-02  1404.599976  1418.400024  1390.800049  1391.099976      38\n",
       "4 2019-07-03  1417.699951  1434.000000  1413.099976  1431.000000      46"
      ]
     },
     "execution_count": 49,
     "metadata": {},
     "output_type": "execute_result"
    }
   ],
   "source": [
    "gold = pd.read_sql(\"gold\", engine)\n",
    "gold.head()"
   ]
  },
  {
   "cell_type": "code",
   "execution_count": 26,
   "metadata": {},
   "outputs": [
    {
     "name": "stdout",
     "output_type": "stream",
     "text": [
      "        id       date     label     score\n",
      "0  1llbny8 2025-06-26  NEGATIVE  0.988981\n",
      "1  1llbar3 2025-06-26  NEGATIVE  0.999304\n",
      "2  1llauj7 2025-06-26  NEGATIVE  0.948334\n",
      "3  1llan5e 2025-06-26  NEGATIVE  0.999715\n",
      "4  1llaild 2025-06-26  NEGATIVE  0.995518\n",
      "\n",
      "Label distribution:\n",
      "label\n",
      "NEGATIVE    234\n",
      "POSITIVE     66\n",
      "Name: count, dtype: int64 \n",
      "\n",
      "Score stats:\n",
      "count    300.000000\n",
      "mean       0.960865\n",
      "std        0.091394\n",
      "min        0.510858\n",
      "25%        0.978219\n",
      "50%        0.994989\n",
      "75%        0.998654\n",
      "max        0.999846\n",
      "Name: score, dtype: float64\n"
     ]
    }
   ],
   "source": [
    "# Import sentiment data\n",
    "import matplotlib.pyplot as plt \n",
    "df_sent = pd.read_sql(\"posts_sentiment\", engine, parse_dates=[\"date\"])\n",
    "print(df_sent.head())\n",
    "print(\"\\nLabel distribution:\")\n",
    "print(df_sent[\"label\"].value_counts(), \"\\n\")\n",
    "print(\"Score stats:\")\n",
    "print(df_sent[\"score\"].describe())"
   ]
  },
  {
   "cell_type": "code",
   "execution_count": 27,
   "metadata": {},
   "outputs": [
    {
     "name": "stdout",
     "output_type": "stream",
     "text": [
      "         date  post_count  avg_sent  pos_ratio\n",
      "27 2025-06-22           5 -0.993815   0.000000\n",
      "28 2025-06-23           5 -0.996114   0.000000\n",
      "29 2025-06-24          53 -0.361478   0.320755\n",
      "30 2025-06-25          72 -0.432715   0.277778\n",
      "31 2025-06-26          81 -0.504196   0.234568\n"
     ]
    }
   ],
   "source": [
    "# map POSITIVE→+score, NEGATIVE→–score\n",
    "df_sent[\"signed_score\"] = df_sent.apply(\n",
    "    lambda r:  r[\"score\"] if r[\"label\"] == \"POSITIVE\" else -r[\"score\"], axis=1\n",
    ")\n",
    "\n",
    "daily = (\n",
    "    df_sent\n",
    "      .groupby(\"date\")\n",
    "      .agg(\n",
    "        post_count = (\"id\", \"count\"),\n",
    "        avg_sent   = (\"signed_score\", \"mean\"),\n",
    "        pos_ratio  = (\"label\", lambda s: (s==\"POSITIVE\").mean())\n",
    "      )\n",
    "      .reset_index()\n",
    ")\n",
    "\n",
    "# write back to SQL for easy reuse\n",
    "daily.to_sql(\"daily_metrics\", engine, if_exists=\"replace\", index=False)\n",
    "print(daily.tail())"
   ]
  },
  {
   "cell_type": "code",
   "execution_count": 28,
   "metadata": {},
   "outputs": [
    {
     "name": "stdout",
     "output_type": "stream",
     "text": [
      "         date  post_count  avg_sent  pos_ratio  vol_mean    vol_std  \\\n",
      "29 2025-06-24          53 -0.361478   0.320755  4.900000   9.263760   \n",
      "30 2025-06-25          72 -0.432715   0.277778  7.266667  15.321685   \n",
      "31 2025-06-26          81 -0.504196   0.234568  9.866667  20.361785   \n",
      "\n",
      "    sent_mean  sent_std  vol_spike  sent_spike  \n",
      "29  -0.750655  0.344964       True       False  \n",
      "30  -0.732092  0.346642       True       False  \n",
      "31  -0.715655  0.345320       True       False  \n"
     ]
    }
   ],
   "source": [
    "window = 30\n",
    "\n",
    "daily[\"vol_mean\"] = daily[\"post_count\"].rolling(window).mean()\n",
    "daily[\"vol_std\"]  = daily[\"post_count\"].rolling(window).std()\n",
    "daily[\"sent_mean\"] = daily[\"avg_sent\"].rolling(window).mean()\n",
    "daily[\"sent_std\"]  = daily[\"avg_sent\"].rolling(window).std()\n",
    "\n",
    "# volume spikes: post_count > mean + 2×std\n",
    "daily[\"vol_spike\"]  = daily[\"post_count\"] > daily[\"vol_mean\"] + 2 * daily[\"vol_std\"]\n",
    "# sentiment spikes: avg_sent > mean + 1.5×std or < mean – 1.5×std\n",
    "daily[\"sent_spike\"] = (\n",
    "    (daily[\"avg_sent\"] > daily[\"sent_mean\"] + 1.5 * daily[\"sent_std\"]) | (\n",
    "    daily[\"avg_sent\"] < daily[\"sent_mean\"] - 1.5 * daily[\"sent_std\"])\n",
    ")\n",
    "\n",
    "print(daily.loc[daily[\"vol_spike\"] | daily[\"sent_spike\"]])\n"
   ]
  },
  {
   "cell_type": "code",
   "execution_count": 29,
   "metadata": {},
   "outputs": [
    {
     "data": {
      "image/png": "[encoded data removed]",
      "text/plain": [
       "<Figure size 1000x400 with 1 Axes>"
      ]
     },
     "metadata": {},
     "output_type": "display_data"
    },
    {
     "data": {
      "image/png": "[encoded data removed]",
      "text/plain": [
       "<Figure size 1000x400 with 1 Axes>"
      ]
     },
     "metadata": {},
     "output_type": "display_data"
    }
   ],
   "source": [
    "import matplotlib.pyplot as plt\n",
    "\n",
    "fig, ax = plt.subplots(figsize=(10, 4))\n",
    "ax.plot(daily[\"date\"], daily[\"post_count\"], label=\"Post Count\")\n",
    "ax.scatter(daily[\"date\"][daily[\"vol_spike\"]],\n",
    "           daily[\"post_count\"][daily[\"vol_spike\"]],\n",
    "           color=\"red\", label=\"Volume Spike\")\n",
    "ax.set_title(\"Daily Reddit Volume & Spikes\")\n",
    "ax.legend()\n",
    "plt.show()\n",
    "\n",
    "fig, ax = plt.subplots(figsize=(10, 4))\n",
    "ax.plot(daily[\"date\"], daily[\"avg_sent\"], label=\"Avg Sentiment\")\n",
    "ax.scatter(daily[\"date\"][daily[\"sent_spike\"]],\n",
    "           daily[\"avg_sent\"][daily[\"sent_spike\"]],\n",
    "           color=\"orange\", label=\"Sentiment Spike\")\n",
    "ax.set_title(\"Daily Sentiment & Spikes\")\n",
    "ax.legend()\n",
    "plt.show()\n"
   ]
  },
  {
   "cell_type": "code",
   "execution_count": null,
   "metadata": {},
   "outputs": [],
   "source": []
  }
 ],
 "metadata": {
  "kernelspec": {
   "display_name": "reddit-env",
   "language": "python",
   "name": "python3"
  },
  "language_info": {
   "codemirror_mode": {
    "name": "ipython",
    "version": 3
   },
   "file_extension": ".py",
   "mimetype": "text/x-python",
   "name": "python",
   "nbconvert_exporter": "python",
   "pygments_lexer": "ipython3",
   "version": "3.11.13"
  }
 },
 "nbformat": 4,
 "nbformat_minor": 2
}
